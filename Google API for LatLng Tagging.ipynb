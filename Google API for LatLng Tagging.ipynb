{
 "cells": [
  {
   "cell_type": "code",
   "execution_count": null,
   "metadata": {
    "collapsed": true
   },
   "outputs": [],
   "source": [
    "######################################\n",
    "############### CONFIG ###############\n",
    "######################################\n",
    "\n",
    "# Enter start and end row here. Note that the first row is row 0 which is the header #\n",
    "start_row = 1\n",
    "end_row   = 1500\n",
    "\n",
    "# Enter file names here. Outputs will appended at the end of this file #\n",
    "input_file  = \"all_visa_2016.csv\"\n",
    "output_file = \"output_file_name.csv\"\n",
    "\n",
    "# Enter your API key from Google APIs #\n",
    "api_key = \"your_key_here\""
   ]
  },
  {
   "cell_type": "code",
   "execution_count": null,
   "metadata": {},
   "outputs": [],
   "source": [
    "import re\n",
    "import json\n",
    "import pyprind\n",
    "from urllib.request import urlopen"
   ]
  },
  {
   "cell_type": "code",
   "execution_count": null,
   "metadata": {},
   "outputs": [],
   "source": [
    "n = end_row - start_row + 1\n",
    "bar = pyprind.ProgBar(n, width=60)\n",
    "\n",
    "file = open(output_file,'a')\n",
    "line_cnt = -1\n",
    "\n",
    "with open(input_file) as f:\n",
    "    for line in f:\n",
    "        line_cnt += 1\n",
    "        if line_cnt < start_row or line_cnt > end_row:\n",
    "            continue\n",
    "        line = re.sub('[\\\"\\n]', '', line)\n",
    "        tmp = line[0:25] + ' ' + line[25:40]\n",
    "        tmp = tmp.split()\n",
    "        tmp = \"%20\".join(tmp)\n",
    "        url = \"https://maps.googleapis.com/maps/api/geocode/json?address=\" + tmp + \"&key=\" + api_key\n",
    "        ## print(url)\n",
    "        response = urlopen(url).read().decode('utf8')\n",
    "        obj = json.loads(response)\n",
    "        if (obj['status'] == 'OK'):\n",
    "            lat = obj['results'][0]['geometry']['location']['lat']\n",
    "            lng = obj['results'][0]['geometry']['location']['lng']\n",
    "            zipcode = obj['results'][0]['address_components'][-1]['long_name']\n",
    "            address = obj['results'][0]['formatted_address']\n",
    "            address = re.sub('[^A-Za-z0-9./\\- ]', '', address)\n",
    "        else:\n",
    "            lat = -1\n",
    "            lng = -1\n",
    "            zipcode = -1\n",
    "            address = \"NaN\"\n",
    "        file.write('\\\"' + line[:40] + '\\\",' + line[41:45] + ',' + str(lat) + ',' + str(lng) + ',\\\"' + str(address) + '\\\",' + str(zipcode) + '\\n')\n",
    "        bar.update()\n",
    "        \n",
    "file.close()"
   ]
  }
 ],
 "metadata": {
  "anaconda-cloud": {},
  "kernelspec": {
   "display_name": "Python [Root]",
   "language": "python",
   "name": "Python [Root]"
  },
  "language_info": {
   "codemirror_mode": {
    "name": "ipython",
    "version": 3
   },
   "file_extension": ".py",
   "mimetype": "text/x-python",
   "name": "python",
   "nbconvert_exporter": "python",
   "pygments_lexer": "ipython3",
   "version": "3.5.2"
  }
 },
 "nbformat": 4,
 "nbformat_minor": 2
}
